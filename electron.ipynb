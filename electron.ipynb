{
 "cells": [
  {
   "cell_type": "code",
   "outputs": [],
   "source": [
    "import numpy as np\n",
    "\n",
    "# 特殊函数：阶乘（factorial）、连带拉盖尔多项式（genlaguerre）、球谐函数（sph_harm）\n",
    "from scipy.special import factorial, genlaguerre, sph_harm\n",
    "\n",
    "# 等值面搜索：marching_cubes\n",
    "from skimage.measure import marching_cubes\n",
    "\n",
    "# 绘图组件\n",
    "import matplotlib.pyplot as plt\n",
    "from mpl_toolkits.mplot3d.art3d import Poly3DCollection\n",
    "\n",
    "# Jupyter Notebook内嵌绘图用，本地运行则不写这一行\n",
    "# %matplotlib notebook"
   ],
   "metadata": {
    "collapsed": true,
    "ExecuteTime": {
     "end_time": "2024-05-08T22:25:49.114410700Z",
     "start_time": "2024-05-08T22:25:49.110361800Z"
    }
   },
   "id": "initial_id",
   "execution_count": 266
  },
  {
   "cell_type": "code",
   "outputs": [],
   "source": [
    "# 定义约化玻尔半径a0, 原子单位下直接设置为1\n",
    "a0 = 1\n",
    "\n",
    "\n",
    "def hydrogen_wave_function(n, l, m):\n",
    "    # 径向部分R(r), 注意genlaguerre的参数顺序\n",
    "    def R(r):\n",
    "        factor = np.sqrt((2. / (n * a0)) ** 3 * \\\n",
    "                         factorial(n - l - 1) / (2 * n * factorial(n + l)))  # 系数\n",
    "        rho = 2 * r / (n * a0)  # 中间量rho\n",
    "        return factor * (rho ** l) * np.exp(-rho / 2) * \\\n",
    "            genlaguerre(n - l - 1, 2 * l + 1)(rho)\n",
    "\n",
    "    # 角向部分Y(theta, phi)就是球谐函数sph_harm\n",
    "    # 注意量子数l与m 和 自变量theta与phi的顺序都是颠倒的！\n",
    "    def Y(theta, phi):\n",
    "        return sph_harm(m, l, theta, phi)\n",
    "\n",
    "    # 径向部分R(r)和角向部分Y(theta, phi)相乘，得到一个关于(r, theta, phi)的函数，即原子轨道\n",
    "    return lambda r, theta, phi: R(r) * Y(theta, phi)"
   ],
   "metadata": {
    "collapsed": false,
    "ExecuteTime": {
     "end_time": "2024-05-08T22:25:49.154731300Z",
     "start_time": "2024-05-08T22:25:49.115476Z"
    }
   },
   "id": "34f9daa37fb74d50",
   "execution_count": 267
  },
  {
   "cell_type": "code",
   "outputs": [],
   "source": [],
   "metadata": {
    "collapsed": false,
    "ExecuteTime": {
     "end_time": "2024-05-08T22:25:49.156896500Z",
     "start_time": "2024-05-08T22:25:49.125220800Z"
    }
   },
   "id": "3938562e6eb5a051",
   "execution_count": 267
  },
  {
   "cell_type": "code",
   "outputs": [],
   "source": [
    "# limit: 确定网格点的区间范围\n",
    "limit_x = 20\n",
    "limit_y = 20\n",
    "\n",
    "# n_points: 每个方向上均匀取点的数目\n",
    "n_points_x = 70\n",
    "n_points_y = 70\n",
    "\n",
    "# vec: 临时变量, 从 -limit 到 limit 均匀取 n_points 个点得到的向量\n",
    "vec_x = np.linspace(-limit_x, limit_x, n_points_x)\n",
    "vec_y = np.linspace(-limit_y, limit_y, n_points_y)\n"
   ],
   "metadata": {
    "collapsed": false,
    "ExecuteTime": {
     "end_time": "2024-05-08T22:25:49.156896500Z",
     "start_time": "2024-05-08T22:25:49.132054800Z"
    }
   },
   "id": "35fff1161a764e34",
   "execution_count": 268
  },
  {
   "cell_type": "code",
   "outputs": [],
   "source": [
    "# 生成三维网格\n",
    "# X记录每个点的x坐标，Y记录y坐标, Z记录z坐标\n",
    "Y, X, Z = np.meshgrid(vec_y, vec_x, vec_x)\n",
    "\n",
    "# print(f\"{Y = }\")"
   ],
   "metadata": {
    "collapsed": false,
    "ExecuteTime": {
     "end_time": "2024-05-08T22:25:49.177829900Z",
     "start_time": "2024-05-08T22:25:49.159147100Z"
    }
   },
   "id": "ad2894cbda82ad54",
   "execution_count": 269
  },
  {
   "cell_type": "code",
   "outputs": [
    {
     "name": "stdout",
     "output_type": "stream",
     "text": [
      "R.shape = (70, 70, 70) THETA.shape = (70, 70, 70) PHI.shape = (70, 70, 70)\n"
     ]
    }
   ],
   "source": [
    "# 由坐标变换，每个格点从直角坐标系下的(X, Y, Z)变成球坐标系下的（R, THETA, PHI）\n",
    "R = np.sqrt(X ** 2 + Y ** 2 + Z ** 2)\n",
    "PHI = np.arccos(Z / R)\n",
    "THETA = np.arctan2(Y, X)\n",
    "\n",
    "print(f\"{R.shape = }\", f\"{THETA.shape = }\", f\"{PHI.shape = }\")"
   ],
   "metadata": {
    "collapsed": false,
    "ExecuteTime": {
     "end_time": "2024-05-08T22:25:49.235117300Z",
     "start_time": "2024-05-08T22:25:49.181237500Z"
    }
   },
   "id": "38c6797a1405b8ab",
   "execution_count": 270
  },
  {
   "cell_type": "code",
   "outputs": [],
   "source": [
    "# 辅助函数，每次返回一个调整好的画布`fig`和内框`ax`\n",
    "def new_fig_and_ax(plot_range=10):\n",
    "    fig = plt.figure()\n",
    "    ax = fig.add_subplot(1, 1, 1, projection=\"3d\")\n",
    "\n",
    "    # 设置坐标比例关系，让图像变得方正\n",
    "    ax.set_box_aspect([1, 1, 1])\n",
    "\n",
    "    # 设置合适的视图俯仰角和方位角，让坐标轴方向符合直观\n",
    "    # x轴对着屏幕外方向，y轴朝右，z轴朝上\n",
    "    ax.view_init(elev=30, azim=20)\n",
    "\n",
    "    # 设置坐标轴标签\n",
    "    ax.set_xlabel(\"$x$\")\n",
    "    ax.set_ylabel(\"$y$\")\n",
    "    ax.set_zlabel(\"$z$\")\n",
    "\n",
    "    # 设置坐标轴范围为[-plot_range, plot_range]\n",
    "    ax.set_xlim(-plot_range, plot_range)\n",
    "    ax.set_ylim(-plot_range, plot_range)\n",
    "    ax.set_zlim(-plot_range, plot_range)\n",
    "\n",
    "    # 设置坐标轴刻度\n",
    "    ticks = np.linspace(-plot_range, plot_range, 5)\n",
    "    ax.set_xticks(ticks)\n",
    "    ax.set_yticks(ticks)\n",
    "    ax.set_zticks(ticks)\n",
    "\n",
    "    return fig, ax"
   ],
   "metadata": {
    "collapsed": false,
    "ExecuteTime": {
     "end_time": "2024-05-08T22:25:49.236247500Z",
     "start_time": "2024-05-08T22:25:49.215414200Z"
    }
   },
   "id": "a544e4e8d4ab1b6e",
   "execution_count": 271
  },
  {
   "cell_type": "code",
   "outputs": [
    {
     "name": "stdout",
     "output_type": "stream",
     "text": [
      "psi = <function hydrogen_wave_function.<locals>.<lambda> at 0x0000024DC03ECA40>\n",
      "psi(1, np.pi/4, np.pi/3) = (1.146007187027682e-19+0.0018715717671831202j)\n"
     ]
    },
    {
     "data": {
      "text/plain": "<Figure size 640x480 with 1 Axes>",
      "image/png": "[encoded data removed]"
     },
     "metadata": {},
     "output_type": "display_data"
    }
   ],
   "source": [
    "# 代入波函数`psi`中, 得到每个格点的波函数值\n",
    "# 原子轨道参数，当前为2p0轨道\n",
    "n, l, m = 3, 2, 2\n",
    "\n",
    "# 2p0轨道波函数\n",
    "psi = hydrogen_wave_function(n, l, m)\n",
    "\n",
    "# `psi`本身是一个函数，后面还可以继续带参数(r, theta, phi)来计算实际的波函数值\n",
    "print(f\"{psi = }\")\n",
    "print(f\"{psi(1, np.pi/4, np.pi/3) = }\")  # 注意结果是复数\n",
    "psi_values = psi(R, THETA, PHI)\n",
    "\n",
    "prob_dens = np.abs(psi_values) ** 2\n",
    "# \n",
    "# extent = np.min(vec_x), np.max(vec_x), np.min(vec_y), np.max(vec_y)\n",
    "plt.imshow(prob_dens[int(n_points_x / 2), :, :].T[::-1]\n",
    "           , origin='lower')  # Add color bar indicating function values\n",
    "plt.show()"
   ],
   "metadata": {
    "collapsed": false,
    "ExecuteTime": {
     "end_time": "2024-05-08T22:25:49.424107800Z",
     "start_time": "2024-05-08T22:25:49.221596300Z"
    }
   },
   "id": "97a3c6391fb64e64",
   "execution_count": 272
  }
 ],
 "metadata": {
  "kernelspec": {
   "display_name": "Python 3",
   "language": "python",
   "name": "python3"
  },
  "language_info": {
   "codemirror_mode": {
    "name": "ipython",
    "version": 2
   },
   "file_extension": ".py",
   "mimetype": "text/x-python",
   "name": "python",
   "nbconvert_exporter": "python",
   "pygments_lexer": "ipython2",
   "version": "2.7.6"
  }
 },
 "nbformat": 4,
 "nbformat_minor": 5
}
